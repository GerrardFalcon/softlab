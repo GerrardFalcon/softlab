{
 "cells": [
  {
   "attachments": {},
   "cell_type": "markdown",
   "metadata": {},
   "source": [
    "# Test on visa interface"
   ]
  },
  {
   "cell_type": "code",
   "execution_count": 1,
   "metadata": {},
   "outputs": [],
   "source": [
    "from softlab.tu import VisaHandle, VisaParameter\n",
    "from softlab.jin import ValInt, ValNumber, ValType"
   ]
  },
  {
   "cell_type": "code",
   "execution_count": 2,
   "metadata": {},
   "outputs": [
    {
     "name": "stdout",
     "output_type": "stream",
     "text": [
      "c:\\Workspace\\petit-kayak\\softlab\\test\\visa_sim.yaml@sim\n",
      "IDN: softlab, Weinschel 8321-B6-09 (Simulated), 3408, 0.0.01\n"
     ]
    }
   ],
   "source": [
    "import os\n",
    "visalib = os.path.join(os.path.abspath('.'), 'visa_sim.yaml') + '@sim'\n",
    "print(visalib)\n",
    "\n",
    "handle = VisaHandle('GPIB::1::INSTR', visalib=visalib, read_termination='\\r', write_termination='\\r', device_clear=False)\n",
    "idn = handle.query(\"*IDN?\")\n",
    "print(f'IDN: {idn}')"
   ]
  },
  {
   "cell_type": "code",
   "execution_count": 3,
   "metadata": {},
   "outputs": [
    {
     "name": "stdout",
     "output_type": "stream",
     "text": [
      "There are 9 channels\n"
     ]
    }
   ],
   "source": [
    "count = VisaParameter('count', handle,\n",
    "                      get_cmd='RFCONFIG? CHAN', get_parser=int,\n",
    "                      validator=ValInt(0),\n",
    "                      settable=False)\n",
    "\n",
    "print(f'There are {count()} channels')"
   ]
  },
  {
   "cell_type": "code",
   "execution_count": 4,
   "metadata": {},
   "outputs": [
    {
     "name": "stdout",
     "output_type": "stream",
     "text": [
      "channel 1, attenuation 0.0dB\n",
      "channel 2, attenuation 0.0dB\n",
      "channel 3, attenuation 1.0dB\n",
      "channel 4, attenuation 1.0dB\n",
      "channel 5, attenuation 1.0dB\n",
      "channel 6, attenuation 1.0dB\n",
      "channel 7, attenuation 2.0dB\n",
      "channel 8, attenuation 2.0dB\n",
      "channel 9, attenuation 2.0dB\n"
     ]
    }
   ],
   "source": [
    "channels = list(map(\n",
    "    lambda chl: VisaParameter(f'chl_{chl+1}', handle,\n",
    "                              get_cmd=f'ATTN? {chl+1}', get_parser=float,\n",
    "                              set_cmd=f'ATTN {chl+1} {{}}',\n",
    "                              validator=ValNumber()),\n",
    "    range(count()),\n",
    "))\n",
    "\n",
    "for idx, para in enumerate(channels):\n",
    "    para(idx * 0.27 + 0.1)\n",
    "    print(f'channel {idx+1}, attenuation {para()}dB')"
   ]
  },
  {
   "cell_type": "code",
   "execution_count": null,
   "metadata": {},
   "outputs": [],
   "source": []
  }
 ],
 "metadata": {
  "kernelspec": {
   "display_name": "triq",
   "language": "python",
   "name": "triq"
  },
  "language_info": {
   "codemirror_mode": {
    "name": "ipython",
    "version": 3
   },
   "file_extension": ".py",
   "mimetype": "text/x-python",
   "name": "python",
   "nbconvert_exporter": "python",
   "pygments_lexer": "ipython3",
   "version": "3.9.12"
  },
  "orig_nbformat": 4
 },
 "nbformat": 4,
 "nbformat_minor": 2
}
